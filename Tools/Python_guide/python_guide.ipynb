{
 "cells": [
  {
   "cell_type": "markdown",
   "metadata": {},
   "source": [
    "- Lambda\n",
    "- Map\n",
    "- List Comprehension\n",
    "- Debugging\n",
    "- Venv\n",
    "- With statement \n",
    "- Zip\n",
    "- Unpacing\n",
    "- Dataclasses\n",
    "- Pytest\n",
    "- Import\n",
    "- Pandas\n",
    "- Packages -> Pip \n",
    "- Explicit, Implicit import\n",
    "- Super \n",
    "- Wrapper \n",
    "- Regex\n",
    "- String manipulate\n",
    "- Understaning documenation \n",
    "- Except \n",
    "- Function "
   ]
  },
  {
   "cell_type": "code",
   "execution_count": 2,
   "metadata": {},
   "outputs": [],
   "source": [
    "# Basic variable types\n",
    "\n",
    "variable_int = 42\n",
    "\n",
    "variable_float = 42.0\n",
    "\n",
    "variable_string = \"forty two\"\n",
    "\n",
    "variable_bool = True"
   ]
  },
  {
   "cell_type": "code",
   "execution_count": 12,
   "metadata": {},
   "outputs": [
    {
     "name": "stdout",
     "output_type": "stream",
     "text": [
      "My int variable is 42.\n",
      "My int variable is 42, my float variable is 42.0.\n",
      "My int variable is 42, my float variable is 42.0.\n"
     ]
    }
   ],
   "source": [
    "print(\"My int variable is %i.\" % variable_int) #Old school can be hard to read if longer.\n",
    "print(\"My int variable is {}, my float variable is {}.\".format(variable_int, variable_float)) #Bit better but ehh...\n",
    "print(f\"My int variable is {variable_int}, my float variable is {variable_float}.\") #Harder to make mistakes, it's called f-strings."
   ]
  },
  {
   "cell_type": "code",
   "execution_count": 19,
   "metadata": {},
   "outputs": [
    {
     "name": "stdout",
     "output_type": "stream",
     "text": [
      "This was an int 42.0 <-- but now it's a float.\n",
      "This was an float 42 <-- but now it's an int.\n",
      "This is now an int: 42, \n",
      "Type: <class 'int'>\n"
     ]
    }
   ],
   "source": [
    "# Conversion\n",
    "\n",
    "print(f\"This was an int {float(variable_int)} <-- but now it's a float.\")\n",
    "print(f\"This was an float {int(variable_float)} <-- but now it's an int.\")\n",
    "\n",
    "variable_string_number = \"42\" # Or '42'\n",
    "variable_string_number_to_int = int(variable_string_number)\n",
    "\n",
    "print(f\"This is now an int: {variable_string_number_to_int}, \\nType: {type(variable_string_number_to_int)}\")"
   ]
  },
  {
   "cell_type": "code",
   "execution_count": 47,
   "metadata": {},
   "outputs": [
    {
     "name": "stdout",
     "output_type": "stream",
     "text": [
      "- Replace:\n",
      "\n",
      "This is a test string for testing.\n",
      "This\tis\ta\tdummy\tstring\tfor\ttesting.\n",
      "Thisisadummystringfortesting.\n",
      "\n",
      "- Split and join:\n",
      "\n",
      "This is a list btw. see next chapter: ['This', 'is', 'a', 'dummy', 'string', 'for', 'testing.']\n",
      "This__is__a__dummy__string__for__testing.\n",
      "Joined other number list: 1,2,3,4,5,6,7,8,9,1,0\n",
      "\n",
      "- In operator:\n",
      "\n",
      "True\n",
      "False\n"
     ]
    }
   ],
   "source": [
    "# String methods\n",
    "\n",
    "demo_string_1 = \"This is a dummy string for testing.\"\n",
    "demo_string_2 = \"12345678910\"\n",
    "\n",
    "print(\"- Replace:\\n\")\n",
    "print(demo_string_1.replace(\"dummy\" , \"test\"))\n",
    "print(demo_string_1.replace(\" \" , \"\\t\")) #Space to tab\n",
    "print(demo_string_1.replace(\" \" , \"\")) #Space to nothing = Remove\n",
    "\n",
    "print(\"\\n- Split and join:\\n\")\n",
    "splitted_string = demo_string_1.split(\" \") #Split it around spaces\n",
    "print(f\"This is a list btw. see next chapter: {splitted_string}\") \n",
    "print('__'.join(splitted_string)) # Join it\n",
    "print(f\"Joined other number list: {','.join(demo_string_2)}\")\n",
    "\n",
    "print(\"\\n- In operator:\\n\")\n",
    "print(\"dummy\" in demo_string_1)\n",
    "print(\"11\" in demo_string_2)\n",
    "\n",
    "\n"
   ]
  },
  {
   "cell_type": "code",
   "execution_count": 71,
   "metadata": {},
   "outputs": [
    {
     "name": "stdout",
     "output_type": "stream",
     "text": [
      "2\n",
      "Extended list: ['short', 'list', [1, 2, 3], 1, 2, 3]\n",
      "Indexing 0-th element: short\n",
      "Modifying 0-th element: ['Not too short anymore... huh?', 'list', [1, 2, 3], 1, 2, 3]\n",
      "First two element ['Not too short anymore... huh?', 'list']\n",
      "Last element 3\n",
      "Last three [1, 2, 3]\n"
     ]
    }
   ],
   "source": [
    "# Lists\n",
    "\"\"\" - Multilne comment btw.\n",
    "    - Ordered\n",
    "    - Can hold any type of data even other lists\n",
    "    - Mutable (items can be changed)\n",
    "\"\"\"\n",
    "\n",
    "x = ['Lists' , 'can' , 'hold' , 'strings and' ,'numbers' , 4 , [1,2], 2.0 , 'and' , 'boolean' , False]\n",
    "short_list = ['short' , 'list']\n",
    "\n",
    "# len\n",
    "print(len(short_list))\n",
    "\n",
    "#Extending\n",
    "\n",
    "short_list.append([1,2,3]) #Adding one element\n",
    "short_list.extend([1,2,3]) # Adding elements one by one\n",
    "print(f\"Extended list: {short_list}\")\n",
    "\n",
    "#Indexing\n",
    "\n",
    "print(f\"Indexing 0-th element: {short_list[0]}\")\n",
    "\n",
    "short_list[0] = \"Not too short anymore... huh?\"\n",
    "print(f\"Modifying 0-th element: {short_list}\")\n",
    "\n",
    "#Slicing\n",
    "\n",
    "print(f\"First two element {short_list[0:2]}\")\n",
    "print(f\"Last element {short_list[-1]}\")\n",
    "print(f\"Last three {short_list[-3:]}\")\n",
    "\n"
   ]
  },
  {
   "cell_type": "code",
   "execution_count": 101,
   "metadata": {},
   "outputs": [
    {
     "name": "stdout",
     "output_type": "stream",
     "text": [
      "(1, 2, 2, 3, 3, 2, 4, 5, 6)\n",
      "True\n",
      "<class 'TypeError'>\n",
      "(\"'tuple' object does not support item assignment\",)\n",
      "'tuple' object does not support item assignment\n",
      "This is not a tuple: 1  -> type: <class 'int'>\n",
      "This is a tuple with one element: (1,)  -> type: <class 'tuple'>\n"
     ]
    }
   ],
   "source": [
    "# Tuples\n",
    "\"\"\" - Fixed size -> Can't add or remove element \n",
    "    - Can't modify element\n",
    "    - Can't change the order\n",
    "    - Why use then? \n",
    "        - Safer code (write protection)\n",
    "        - Faster than lists (hashing)\n",
    "        - Faster to use \"in\" function, no need to iterate \n",
    "\"\"\"\n",
    "\n",
    "the_tuple = (1, 2, 2, 3, 3, 2, 4, 5, 6)\n",
    "print(the_tuple)\n",
    "print(f\"{5 in the_tuple}\")\n",
    "\n",
    "#Exception handling, will be covered later\n",
    "\n",
    "try:\n",
    "    the_tuple[0] = 5\n",
    "except Exception as error:\n",
    "    print(type(error))   \n",
    "    print(error.args)    \n",
    "    print(error)        \n",
    "    \n",
    "# In parameters be careful\n",
    "\n",
    "not_tuple = (1)\n",
    "is_tuple = (1,)\n",
    "\n",
    "print(f\"This is not a tuple: {not_tuple}  -> type: {type(not_tuple)}\")\n",
    "print(f\"This is a tuple with one element: {is_tuple}  -> type: {type(is_tuple)}\")"
   ]
  },
  {
   "cell_type": "code",
   "execution_count": 125,
   "metadata": {},
   "outputs": [
    {
     "name": "stdout",
     "output_type": "stream",
     "text": [
      "{1, 2, 3, 4, 5, 6}\n",
      "Element can be added: {1, 2, 3, 4, 5, 6, 9}\n",
      "And removed: {2, 3, 4, 5, 6, 9}\n"
     ]
    }
   ],
   "source": [
    "# Sets\n",
    "\"\"\" - Unordered, can be a random order every time you create it so...\n",
    "            - Cannot be indexed\n",
    "    - Unchangable elements\n",
    "    - Why use then?\n",
    "        - Can't have duplicate items, we can filter out unique elements faster than in lists\n",
    "\n",
    "\"\"\"\n",
    "empty_set = set()\n",
    "the_set = {1, 2, 2, 3, 3, 2, 4, 5, 6}\n",
    "print(the_set)\n",
    "the_set.add(9) \n",
    "print(f\"Element can be added: {the_set}\")\n",
    "the_set.remove(1)\n",
    "print(f\"And removed: {the_set}\")"
   ]
  },
  {
   "cell_type": "code",
   "execution_count": 150,
   "metadata": {},
   "outputs": [
    {
     "name": "stdout",
     "output_type": "stream",
     "text": [
      "{'one': 1, 'two': 2, 'three': 3}\n",
      "Original: 1\n",
      "Modified: 5\n",
      "After delete: {'two': 2, 'three': 3}\n",
      "After adding items: {'two': 2, 'three': 3, 'four': 4, 'just_a_list': [1, 2, 3]}\n",
      "Keys: dict_keys(['two', 'three', 'four', 'just_a_list'])\n",
      "Values: dict_values([2, 3, 4, [1, 2, 3]])\n",
      "\n",
      "For this key: \"two\" \t  ---->  2 is the value\n",
      "For this key: \"three\" \t  ---->  3 is the value\n",
      "For this key: \"four\" \t  ---->  4 is the value\n",
      "For this key: \"just_a_list\" \t  ---->  [1, 2, 3] is the value\n"
     ]
    }
   ],
   "source": [
    "# Dictionary\n",
    "\"\"\" - Keys mapped to values\n",
    "    - Very fast due to hashing\n",
    "    - Items can be added and modified\n",
    "\"\"\"\n",
    "\n",
    "the_dict_basic = dict(one=1, two=2, three=3)\n",
    "the_dict = {'one': 1, 'two': 2, 'three': 3}\n",
    "print(the_dict)\n",
    "print(f\"Original: {the_dict['one']}\")\n",
    "the_dict['one'] = 5\n",
    "print(f\"Modified: {the_dict['one']}\")\n",
    "del the_dict['one']\n",
    "print(f\"After delete: {the_dict}\")\n",
    "the_dict['four'] = 4\n",
    "the_dict.update({\"just_a_list\" : [1,2,3]})\n",
    "print(f\"After adding items: {the_dict}\")\n",
    "\n",
    "#Usefull functions\n",
    "\n",
    "print(f\"Keys: {the_dict.keys()}\")\n",
    "print(f\"Values: {the_dict.values()}\\n\")\n",
    "\n",
    "# Loop over\n",
    "\n",
    "for key , value in the_dict.items():\n",
    "    print(f\"For this key: \\\"{key}\\\" \\t  ---->  {value} is the value\")"
   ]
  },
  {
   "cell_type": "code",
   "execution_count": 111,
   "metadata": {},
   "outputs": [
    {
     "name": "stdout",
     "output_type": "stream",
     "text": [
      "This is an odd number:\t 1\n",
      "This is an even number:\t 2\n",
      "This is an odd number:\t 3\n",
      "This is an even number:\t 4\n",
      "This is an odd number:\t 5\n",
      "This is an even number:\t 6\n",
      "This is an odd number:\t 7\n",
      "This is an even number:\t 8\n",
      "This is an odd number:\t 9\n"
     ]
    }
   ],
   "source": [
    "# Loops and conditions\n",
    "\n",
    "# range (start, end, step)\n",
    "\n",
    "for i in range(1,10):\n",
    "    if i % 2 == 0:\n",
    "        print(f\"This is an even number:\\t {i}\")\n",
    "    else:\n",
    "        print(f\"This is an odd number:\\t {i}\")"
   ]
  },
  {
   "cell_type": "code",
   "execution_count": 122,
   "metadata": {},
   "outputs": [
    {
     "name": "stdout",
     "output_type": "stream",
     "text": [
      "10\n",
      "8\n",
      "6\n",
      "4\n",
      "2\n",
      "\n",
      "While loop:\n",
      "\n",
      "1\n",
      "2\n",
      "3\n",
      "4\n",
      "5\n",
      "6\n",
      "7\n",
      "8\n",
      "9\n",
      "10\n",
      "11\n",
      "12\n",
      "13\n",
      "14\n",
      "15\n"
     ]
    }
   ],
   "source": [
    "# Odd numbers backward and while loop\n",
    "\n",
    "for i in range(10, 1, -2):\n",
    "    print(i)\n",
    "\n",
    "print(\"\\nWhile loop:\\n\")\n",
    "i = 0   \n",
    "while(i < 15):\n",
    "    i = i + 1\n",
    "    print(i)"
   ]
  },
  {
   "cell_type": "code",
   "execution_count": 124,
   "metadata": {},
   "outputs": [
    {
     "name": "stdout",
     "output_type": "stream",
     "text": [
      "Index: 0 , Number: 1\n",
      "Index: 1 , Number: 2\n",
      "Index: 2 , Number: 3\n",
      "Index: 3 , Number: 4\n",
      "Index: 4 , Number: 5\n",
      "Index: 5 , Number: 6\n",
      "Index: 6 , Number: 7\n",
      "Index: 7 , Number: 8\n",
      "Index: 8 , Number: 9\n",
      "Index: 9 , Number: 10\n",
      "\n",
      "More pythonic way:\n",
      "\n",
      "Index: 0 , Number: 1\n",
      "Index: 1 , Number: 2\n",
      "Index: 2 , Number: 3\n",
      "Index: 3 , Number: 4\n",
      "Index: 4 , Number: 5\n",
      "Index: 5 , Number: 6\n",
      "Index: 6 , Number: 7\n",
      "Index: 7 , Number: 8\n",
      "Index: 8 , Number: 9\n",
      "Index: 9 , Number: 10\n"
     ]
    }
   ],
   "source": [
    "# Iterating list\n",
    "\n",
    "list_of_numbers = [1,2,3,4,5,6,7,8,9,10]\n",
    "\n",
    "i = 0\n",
    "for number in list_of_numbers:\n",
    "    print(f\"Index: {i} , Number: {number}\")\n",
    "    i = i + 1\n",
    "    \n",
    "print(\"\\nMore pythonic way:\\n\")\n",
    "\n",
    "for i , number in enumerate(list_of_numbers):\n",
    "    print(f\"Index: {i} , Number: {number}\")\n"
   ]
  }
 ],
 "metadata": {
  "kernelspec": {
   "display_name": "Python 3.10.0 ('.env': venv)",
   "language": "python",
   "name": "python3"
  },
  "language_info": {
   "codemirror_mode": {
    "name": "ipython",
    "version": 3
   },
   "file_extension": ".py",
   "mimetype": "text/x-python",
   "name": "python",
   "nbconvert_exporter": "python",
   "pygments_lexer": "ipython3",
   "version": "3.10.7"
  },
  "orig_nbformat": 4,
  "vscode": {
   "interpreter": {
    "hash": "799ad578b7000ddf4484e5f0a41eec09d22b5df997e56dfa4049b9458174d7cb"
   }
  }
 },
 "nbformat": 4,
 "nbformat_minor": 2
}
