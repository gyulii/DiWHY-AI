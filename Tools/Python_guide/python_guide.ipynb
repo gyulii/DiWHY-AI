{
 "cells": [
  {
   "cell_type": "markdown",
   "metadata": {},
   "source": [
    "- Lambda\n",
    "- Map\n",
    "- Enumerate\n",
    "- List Comprehension\n",
    "- Debugging\n",
    "- F string\n",
    "- Venv\n",
    "- With statement \n",
    "- Zip\n",
    "- Unpacing\n",
    "- Dataclasses\n",
    "- Pytest\n",
    "- Import\n",
    "- Pandas\n",
    "- Packages -> Pip \n",
    "- Explicit, Implicit import\n",
    "- Super \n",
    "- Wrapper \n",
    "- Regex\n",
    "- String manipulate\n",
    "- Understaning documenation\n",
    "- If else, elif \n",
    "- For loop , while \n",
    "- Except \n",
    "- Range\n",
    "- Len \n",
    "- Function "
   ]
  },
  {
   "cell_type": "markdown",
   "metadata": {},
   "source": []
  },
  {
   "cell_type": "code",
   "execution_count": null,
   "metadata": {},
   "outputs": [],
   "source": []
  }
 ],
 "metadata": {
  "language_info": {
   "name": "python"
  },
  "orig_nbformat": 4
 },
 "nbformat": 4,
 "nbformat_minor": 2
}
