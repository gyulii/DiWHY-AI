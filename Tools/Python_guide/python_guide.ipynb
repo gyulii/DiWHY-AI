{
 "cells": [
  {
   "cell_type": "markdown",
   "metadata": {},
   "source": [
    "- Lambda\n",
    "- Map\n",
    "- Enumerate\n",
    "- List Comprehension\n",
    "- Debugging\n",
    "- F string\n",
    "- Venv\n",
    "- With statement \n",
    "- Zip\n",
    "- Unpacing\n",
    "- Dataclasses\n",
    "- Pytest\n",
    "- Import\n",
    "- Pandas\n",
    "- Packages -> Pip \n",
    "- Explicit, Implicit import\n",
    "- Super \n",
    "- Wrapper \n",
    "- Regex\n",
    "- String manipulate\n",
    "- Understaning documenation\n",
    "- If else, elif \n",
    "- For loop , while \n",
    "- Except \n",
    "- Range\n",
    "- Len \n",
    "- Function "
   ]
  },
  {
   "cell_type": "code",
   "execution_count": 16,
   "metadata": {},
   "outputs": [
    {
     "name": "stdout",
     "output_type": "stream",
     "text": [
      "0\n",
      "1\n",
      "2\n",
      "3\n",
      "4\n",
      "5\n",
      "6\n",
      "7\n",
      "8\n",
      "9\n"
     ]
    }
   ],
   "source": [
    "\n",
    "L = list(range(10))\n",
    "\n",
    "\n",
    "\n",
    "for i in L:\n",
    "    print(i)"
   ]
  },
  {
   "cell_type": "code",
   "execution_count": null,
   "metadata": {},
   "outputs": [],
   "source": [
    "class A:\n",
    "    __init__(self):\n",
    "        pass"
   ]
  },
  {
   "cell_type": "code",
   "execution_count": 22,
   "metadata": {},
   "outputs": [
    {
     "name": "stdout",
     "output_type": "stream",
     "text": [
      "{'apple', 'banana', 'cherry'}\n"
     ]
    }
   ],
   "source": [
    "lista = [\"apple\", \"banana\", \"cherry\", \"apple\"]\n",
    "new_set = set(lista)\n",
    "print(new_set)"
   ]
  },
  {
   "cell_type": "code",
   "execution_count": 39,
   "metadata": {},
   "outputs": [
    {
     "name": "stdout",
     "output_type": "stream",
     "text": [
      "Mustang\n",
      "0 0 ['Ford', 'Suzy']\n",
      "1 1 Mustang\n",
      "2 2 1964\n"
     ]
    }
   ],
   "source": [
    "thisdict =\t{\n",
    "  0: [\"Ford\", \"Suzy\"],\n",
    "  1: \"Mustang\",\n",
    "  2: 1964\n",
    "}\n",
    "\n",
    "print(thisdict[1])\n",
    "for index , (key, value) in enumerate(thisdict.items()):\n",
    "  print(index , key , value)"
   ]
  },
  {
   "cell_type": "code",
   "execution_count": 48,
   "metadata": {},
   "outputs": [
    {
     "name": "stdout",
     "output_type": "stream",
     "text": [
      "[0, 5, 10, 15, 20, 25, 30, 35, 40, 45, 50, 55, 60, 65, 70, 75, 80, 85, 90, 95, 100, 105, 110, 115, 120, 125, 130, 135, 140, 145, 150, 155, 160, 165, 170, 175, 180, 185, 190, 195, 200, 205, 210, 215, 220, 225, 230, 235, 240, 245, 250, 255, 260, 265, 270, 275, 280, 285, 290, 295, 300, 305, 310, 315, 320, 325, 330, 335, 340, 345, 350, 355, 360, 365, 370, 375, 380, 385, 390, 395, 400, 405, 410, 415, 420, 425, 430, 435, 440, 445, 450, 455, 460, 465, 470, 475, 480, 485, 490, 495, 500, 505, 510, 515, 520, 525, 530, 535, 540, 545, 550, 555, 560, 565, 570, 575, 580, 585, 590, 595, 600, 605, 610, 615, 620, 625, 630, 635, 640, 645, 650, 655, 660, 665, 670, 675, 680, 685, 690, 695, 700, 705, 710, 715, 720, 725, 730, 735, 740, 745, 750, 755, 760, 765, 770, 775, 780, 785, 790, 795, 800, 805, 810, 815, 820, 825, 830, 835, 840, 845, 850, 855, 860, 865, 870, 875, 880, 885, 890, 895, 900, 905, 910, 915, 920, 925, 930, 935, 940, 945, 950, 955, 960, 965, 970, 975, 980, 985, 990, 995]\n"
     ]
    }
   ],
   "source": [
    "fruits = [\"apple\", \"banana\", \"cherry\", \"kiwi\", \"mango\"]\n",
    "\n",
    "newlist = [x for x in range(1000) if x % 5 == 0]\n",
    "\n",
    "print(newlist) "
   ]
  }
 ],
 "metadata": {
  "kernelspec": {
   "display_name": "Python 3.10.0 ('.env': venv)",
   "language": "python",
   "name": "python3"
  },
  "language_info": {
   "codemirror_mode": {
    "name": "ipython",
    "version": 3
   },
   "file_extension": ".py",
   "mimetype": "text/x-python",
   "name": "python",
   "nbconvert_exporter": "python",
   "pygments_lexer": "ipython3",
   "version": "3.10.0"
  },
  "orig_nbformat": 4,
  "vscode": {
   "interpreter": {
    "hash": "799ad578b7000ddf4484e5f0a41eec09d22b5df997e56dfa4049b9458174d7cb"
   }
  }
 },
 "nbformat": 4,
 "nbformat_minor": 2
}
